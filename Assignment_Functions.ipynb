{
  "cells": [
    {
      "cell_type": "markdown",
      "id": "acb10404",
      "metadata": {
        "id": "acb10404"
      },
      "source": [
        "**Assignment Functions**"
      ]
    },
    {
      "cell_type": "markdown",
      "id": "5d559987",
      "metadata": {
        "id": "5d559987"
      },
      "source": [
        "**Theory Questions:**"
      ]
    },
    {
      "cell_type": "markdown",
      "id": "badefb58",
      "metadata": {
        "id": "badefb58"
      },
      "source": [
        "Que 1. What is the difference between a function and a method in Python?"
      ]
    },
    {
      "cell_type": "markdown",
      "id": "c1147888",
      "metadata": {
        "id": "c1147888"
      },
      "source": [
        "ANS : A function in Python is a block of reusable code that performs a specific task and can be called indepadently using its name, Functions are defined using the def key word and are not associated with any object.\n",
        "\n",
        "A Method is similar to a function but is associated with an object (usually an instance of a class). Methods are called on objects and can access and modify the object's data. Methods are defined inside classes."
      ]
    },
    {
      "cell_type": "code",
      "execution_count": 3,
      "id": "61b89d96",
      "metadata": {
        "id": "61b89d96"
      },
      "outputs": [],
      "source": [
        "def my_function():      # Function\n",
        "    print(\"Hello\")"
      ]
    },
    {
      "cell_type": "code",
      "execution_count": 4,
      "id": "4e7dc4c6",
      "metadata": {
        "id": "4e7dc4c6"
      },
      "outputs": [],
      "source": [
        "class MyClass:\n",
        "    def my_method(self):  # Method\n",
        "        print(\"Hello from method\")"
      ]
    },
    {
      "cell_type": "markdown",
      "id": "084df3ee",
      "metadata": {
        "id": "084df3ee"
      },
      "source": [
        "Que 2. Explain the concept of function arguments and parameters in Python?"
      ]
    },
    {
      "cell_type": "markdown",
      "id": "5178654b",
      "metadata": {
        "id": "5178654b"
      },
      "source": [
        "ANS : Parameters are the variable names listed in a function’s definition. They act as placeholders for the values the function will use.\n",
        "Parameters are in the function definition.\n",
        "\n",
        "Arguments are the actual values you pass to a function when you call it. These values are assigned to the corresponding parameters.\n",
        "Arguments are the real values passed during the function call.\n"
      ]
    },
    {
      "cell_type": "code",
      "execution_count": 5,
      "id": "a1e5be94",
      "metadata": {
        "id": "a1e5be94",
        "outputId": "a89c8222-9e02-4bb8-dfd5-9323696bc709",
        "colab": {
          "base_uri": "https://localhost:8080/"
        }
      },
      "outputs": [
        {
          "output_type": "stream",
          "name": "stdout",
          "text": [
            "Hello, Dhirendra\n"
          ]
        }
      ],
      "source": [
        "def greet(name):   # 'name' is a parameter\n",
        "    print(\"Hello,\", name)\n",
        "\n",
        "greet(\"Dhirendra\")     # \"Dhirendra\" is an argument"
      ]
    },
    {
      "cell_type": "markdown",
      "id": "b15f2a3c",
      "metadata": {
        "id": "b15f2a3c"
      },
      "source": [
        "Que 3. What are the different ways to define and call a function in Python?"
      ]
    },
    {
      "cell_type": "markdown",
      "id": "4e4ca390",
      "metadata": {
        "id": "4e4ca390"
      },
      "source": [
        "ANS: Different ways to define and call a function in Python:"
      ]
    },
    {
      "cell_type": "code",
      "execution_count": 6,
      "id": "43fb1145",
      "metadata": {
        "id": "43fb1145",
        "outputId": "7c98e3c5-b975-43e5-870f-02da8b6ea296",
        "colab": {
          "base_uri": "https://localhost:8080/"
        }
      },
      "outputs": [
        {
          "output_type": "stream",
          "name": "stdout",
          "text": [
            "Hello, Dhir\n"
          ]
        }
      ],
      "source": [
        "# Using def keyword (standard function)\n",
        "def greet(name):\n",
        "    return \"Hello, \" + name\n",
        "\n",
        "print(greet(\"Dhir\"))  # Calling the function"
      ]
    },
    {
      "cell_type": "code",
      "execution_count": 7,
      "id": "040d4dff",
      "metadata": {
        "id": "040d4dff",
        "outputId": "a591ac6d-99b5-4fa7-9934-a033d550f12d",
        "colab": {
          "base_uri": "https://localhost:8080/"
        }
      },
      "outputs": [
        {
          "output_type": "stream",
          "name": "stdout",
          "text": [
            "5\n"
          ]
        }
      ],
      "source": [
        "# Using lambda (anonymous function)\n",
        "add = lambda x, y: x + y\n",
        "print(add(2, 3))"
      ]
    },
    {
      "cell_type": "code",
      "execution_count": 8,
      "id": "1487d4c6",
      "metadata": {
        "id": "1487d4c6",
        "outputId": "576fd5eb-dec1-47ca-cc6f-6d4b38ed6e67",
        "colab": {
          "base_uri": "https://localhost:8080/"
        }
      },
      "outputs": [
        {
          "output_type": "stream",
          "name": "stdout",
          "text": [
            "9\n",
            "27\n"
          ]
        }
      ],
      "source": [
        "# Using def with default arguments\n",
        "def power(base, exponent=2):\n",
        "    return base ** exponent\n",
        "\n",
        "print(power(3))\n",
        "print(power(3, 3))"
      ]
    },
    {
      "cell_type": "code",
      "execution_count": 9,
      "id": "572c843d",
      "metadata": {
        "id": "572c843d",
        "outputId": "aa76a12a-b857-49e1-e780-324272843ed9",
        "colab": {
          "base_uri": "https://localhost:8080/"
        }
      },
      "outputs": [
        {
          "output_type": "stream",
          "name": "stdout",
          "text": [
            "(1, 2) {'a': 3, 'b': 4}\n"
          ]
        }
      ],
      "source": [
        "#  Using variable-length arguments (*args, **kwargs)\n",
        "def show_args(*args, **kwargs):\n",
        "    print(args, kwargs)\n",
        "\n",
        "show_args(1, 2, a=3, b=4)"
      ]
    },
    {
      "cell_type": "code",
      "execution_count": 10,
      "id": "9d9c9c3b",
      "metadata": {
        "id": "9d9c9c3b",
        "outputId": "748889b0-2125-4a73-d3c0-eb55e2a84d96",
        "colab": {
          "base_uri": "https://localhost:8080/"
        }
      },
      "outputs": [
        {
          "output_type": "stream",
          "name": "stdout",
          "text": [
            "<map object at 0x7b754f360eb0>\n",
            "[1, 4, 9]\n"
          ]
        }
      ],
      "source": [
        "# Calling functions as arguments to other functions\n",
        "def square(x):\n",
        "    return x * x\n",
        "\n",
        "print(map(square, [1, 2, 3]))\n",
        "print(list(map(square, [1, 2, 3])))"
      ]
    },
    {
      "cell_type": "markdown",
      "id": "216275d3",
      "metadata": {
        "id": "216275d3"
      },
      "source": [
        "Que 4. What is the purpose of the `return` statement in a Python function?"
      ]
    },
    {
      "cell_type": "markdown",
      "id": "3d1bcaf4",
      "metadata": {
        "id": "3d1bcaf4"
      },
      "source": [
        "ANS : The return statement in a Python function is used to exit the function and send a value back to the caller. It specifies the result that the function should provide when it finishes executing. If no return statement is used, the function returns None by default."
      ]
    },
    {
      "cell_type": "code",
      "execution_count": 11,
      "id": "61b692ae",
      "metadata": {
        "id": "61b692ae",
        "outputId": "980b4f07-6278-4557-934f-8d422df8c47a",
        "colab": {
          "base_uri": "https://localhost:8080/"
        }
      },
      "outputs": [
        {
          "output_type": "stream",
          "name": "stdout",
          "text": [
            "12\n"
          ]
        }
      ],
      "source": [
        "def add(a, b):\n",
        "    return a + b\n",
        "\n",
        "result = add(3, 9)\n",
        "print(result)"
      ]
    },
    {
      "cell_type": "markdown",
      "id": "23537340",
      "metadata": {
        "id": "23537340"
      },
      "source": [
        "Que 5. What are iterators in Python and how do they differ from iterables?"
      ]
    },
    {
      "cell_type": "markdown",
      "id": "17ac5c23",
      "metadata": {
        "id": "17ac5c23"
      },
      "source": [
        "ANS : Iterables are objects in Python that can be looped over (iterated), such as lists, tuples, strings, and sets. They implement the __iter__() method, which returns an iterator.\n",
        "\n",
        "Iterators are objects that represent a stream of data; they produce items one at a time when you call next() on them. Iterators implement both the __iter__() and __next__() methods.\n",
        "\n",
        "- An iterable can return an iterator using iter().\n",
        "- An iterator gives the next value with next() and remembers its position.\n",
        "- All iterators are iterables, but not all iterables are iterators."
      ]
    },
    {
      "cell_type": "code",
      "execution_count": 12,
      "id": "5471e64c",
      "metadata": {
        "id": "5471e64c",
        "outputId": "399dc07b-f09c-4831-b9c6-ca3e5a26f992",
        "colab": {
          "base_uri": "https://localhost:8080/"
        }
      },
      "outputs": [
        {
          "output_type": "stream",
          "name": "stdout",
          "text": [
            "1\n",
            "2\n"
          ]
        }
      ],
      "source": [
        "lst = [1, 2, 3]        # iterable\n",
        "it = iter(lst)         # iterator\n",
        "print(next(it))        # 1\n",
        "print(next(it))        # 2"
      ]
    },
    {
      "cell_type": "markdown",
      "id": "f7b6731d",
      "metadata": {
        "id": "f7b6731d"
      },
      "source": [
        "Que 6. Explain the concept of generators in Python and how they are defined."
      ]
    },
    {
      "cell_type": "markdown",
      "id": "02146454",
      "metadata": {
        "id": "02146454"
      },
      "source": [
        "ANS : Generators in Python are special functions that allow you to iterate over a sequence of values, one at a time, without storing the entire sequence in memory. They are defined using functions that contain the yield keyword instead of return.\n",
        "\n",
        "When a generator function is called, it returns a generator object but does not execute the function immediately. Each time you iterate over the generator (using a loop or next()), the function runs until it hits a yield statement, which returns a value and pauses the function’s state. The next iteration resumes from where it left off."
      ]
    },
    {
      "cell_type": "code",
      "execution_count": 13,
      "id": "3386fb21",
      "metadata": {
        "id": "3386fb21",
        "outputId": "9ab1f875-03c9-41b6-994b-a9a5e837dde8",
        "colab": {
          "base_uri": "https://localhost:8080/"
        }
      },
      "outputs": [
        {
          "output_type": "stream",
          "name": "stdout",
          "text": [
            "1\n",
            "2\n",
            "3\n"
          ]
        }
      ],
      "source": [
        "def count_up_to(n):\n",
        "    count = 1\n",
        "    while count <= n:\n",
        "        yield count\n",
        "        count += 1\n",
        "\n",
        "gen = count_up_to(3)\n",
        "for num in gen:\n",
        "    print(num)"
      ]
    },
    {
      "cell_type": "markdown",
      "id": "84be69d8",
      "metadata": {
        "id": "84be69d8"
      },
      "source": [
        "Que 7. What are the advantages of using generators over regular functions?"
      ]
    },
    {
      "cell_type": "markdown",
      "id": "dc642b55",
      "metadata": {
        "id": "dc642b55"
      },
      "source": [
        "ANS: Memory Efficiency:\n",
        "Generators yield items one at a time and do not store the entire sequence in memory, making them ideal for working with large data sets or streams.\n",
        "\n",
        "Lazy Evaluation:\n",
        "Values are produced only when requested, which can improve performance and reduce unnecessary computations.\n",
        "\n",
        "Infinite Sequences:\n",
        "Generators can represent infinite sequences, as they generate values on the fly and do not require all values to be stored.\n",
        "\n",
        "Simpler Code:\n",
        "Generators can simplify code that would otherwise require managing state and iteration manually.\n",
        "\n",
        "Pipelining:\n",
        "Generators can be chained together to form data processing pipelines, improving modularity and readability.\n",
        "\n",
        "Summary:\n",
        "Generators are more memory-efficient and suitable for large or infinite data streams, while also enabling cleaner and more maintainable code."
      ]
    },
    {
      "cell_type": "code",
      "execution_count": 14,
      "id": "ac3116a5",
      "metadata": {
        "id": "ac3116a5",
        "outputId": "41be8cf2-fcc5-44d7-8b03-a516c1f31e1a",
        "colab": {
          "base_uri": "https://localhost:8080/"
        }
      },
      "outputs": [
        {
          "output_type": "stream",
          "name": "stdout",
          "text": [
            "5\n",
            "4\n",
            "3\n",
            "2\n",
            "1\n"
          ]
        }
      ],
      "source": [
        "def countdown(n):\n",
        "    while n > 0:\n",
        "        yield n\n",
        "        n -= 1\n",
        "\n",
        "for num in countdown(5):\n",
        "    print(num)"
      ]
    },
    {
      "cell_type": "markdown",
      "id": "efd5b262",
      "metadata": {
        "id": "efd5b262"
      },
      "source": [
        "Que 8. What is a lambda function in Python and when is it typically used?"
      ]
    },
    {
      "cell_type": "markdown",
      "id": "67fde87b",
      "metadata": {
        "id": "67fde87b"
      },
      "source": [
        "ANS :\n",
        "A lambda function in Python is a small, anonymous function defined using the lambda keyword instead of def. It can have any number of arguments but only one expression, which is evaluated and returned.\n",
        "\n",
        "Typical uses:\n",
        "\n",
        "When a simple function is needed for a short period and defining a full function with def would be unnecessary.\n",
        "Commonly used as arguments to functions like map(), filter(), and sorted()."
      ]
    },
    {
      "cell_type": "code",
      "execution_count": 15,
      "id": "efeb4e14",
      "metadata": {
        "id": "efeb4e14",
        "outputId": "ad42c3b0-c674-45e3-9f11-445dd86e607b",
        "colab": {
          "base_uri": "https://localhost:8080/"
        }
      },
      "outputs": [
        {
          "output_type": "stream",
          "name": "stdout",
          "text": [
            "25\n",
            "[(5, 0), (3, 1), (1, 2)]\n"
          ]
        }
      ],
      "source": [
        "square = lambda x: x * x\n",
        "print(square(5))\n",
        "\n",
        "pairs = [(1, 2), (3, 1), (5, 0)]\n",
        "sorted_pairs = sorted(pairs, key=lambda pair: pair[1])\n",
        "print(sorted_pairs)"
      ]
    },
    {
      "cell_type": "markdown",
      "id": "0c70000f",
      "metadata": {
        "id": "0c70000f"
      },
      "source": [
        "Que 9. Explain the purpose and usage of the `map()` function in Python."
      ]
    },
    {
      "cell_type": "markdown",
      "id": "672f4563",
      "metadata": {
        "id": "672f4563"
      },
      "source": [
        "ANS : The map() function in Python is used to apply a given function to each item in an iterable (such as a list, tuple, or string) and returns a map object (an iterator) with the results.\n",
        "\n",
        "Purpose:\n",
        "\n",
        "To perform the same operation on every element of an iterable without writing an explicit loop."
      ]
    },
    {
      "cell_type": "code",
      "execution_count": 16,
      "id": "e10fb93d",
      "metadata": {
        "id": "e10fb93d",
        "outputId": "d601c3f3-f5c0-451f-fc73-6d3d5a4373d8",
        "colab": {
          "base_uri": "https://localhost:8080/"
        }
      },
      "outputs": [
        {
          "output_type": "stream",
          "name": "stdout",
          "text": [
            "[1, 4, 9, 16]\n"
          ]
        }
      ],
      "source": [
        "numbers = [1, 2, 3, 4]\n",
        "squared = map(lambda c: c**2, numbers)\n",
        "print(list(squared))\n"
      ]
    },
    {
      "cell_type": "markdown",
      "id": "af460bff",
      "metadata": {
        "id": "af460bff"
      },
      "source": [
        "Que 10. What is the difference between `map()`, `reduce()`, and `filter()` functions in Python?"
      ]
    },
    {
      "cell_type": "markdown",
      "id": "bdd7721e",
      "metadata": {
        "id": "bdd7721e"
      },
      "source": [
        "ANS :map(), reduce(), and filter() are built-in functions in Python used for functional programming:\n",
        "\n",
        "1.  map(function, iterable)\n",
        "\n",
        "Applies a function to each item in an iterable and returns a map object (an iterator)."
      ]
    },
    {
      "cell_type": "code",
      "execution_count": 17,
      "id": "3341de91",
      "metadata": {
        "id": "3341de91",
        "outputId": "f5a782b5-0b8a-4fd3-86b9-6838e065b095",
        "colab": {
          "base_uri": "https://localhost:8080/"
        }
      },
      "outputs": [
        {
          "output_type": "stream",
          "name": "stdout",
          "text": [
            "[2, 4, 6]\n"
          ]
        }
      ],
      "source": [
        "nums = [1, 2, 3]\n",
        "result = list(map(lambda x: x * 2, nums))\n",
        "print(result)"
      ]
    },
    {
      "cell_type": "markdown",
      "id": "7865d0c1",
      "metadata": {
        "id": "7865d0c1"
      },
      "source": [
        "2. filter(function, iterable)\n",
        "\n",
        "Filters items in an iterable by applying a function that returns True or False.\n",
        "Only items where the function returns True are included."
      ]
    },
    {
      "cell_type": "code",
      "execution_count": 18,
      "id": "25e286d1",
      "metadata": {
        "id": "25e286d1",
        "outputId": "5bc5d769-086e-49ca-8cf1-652d265b8e49",
        "colab": {
          "base_uri": "https://localhost:8080/"
        }
      },
      "outputs": [
        {
          "output_type": "stream",
          "name": "stdout",
          "text": [
            "[2, 4]\n"
          ]
        }
      ],
      "source": [
        "nums = [1, 2, 3, 4]\n",
        "result = list(filter(lambda x: x % 2 == 0, nums))\n",
        "print(result)"
      ]
    },
    {
      "cell_type": "markdown",
      "id": "45ac12f6",
      "metadata": {
        "id": "45ac12f6"
      },
      "source": [
        "3. reduce(function, iterable)\n",
        "\n",
        "Applies a function cumulatively to the items of an iterable, reducing it to a single value.\n",
        "Must be imported from functools."
      ]
    },
    {
      "cell_type": "code",
      "execution_count": 19,
      "id": "6005445d",
      "metadata": {
        "id": "6005445d",
        "outputId": "b22410c4-69bc-41f9-aa03-50bb2f4de531",
        "colab": {
          "base_uri": "https://localhost:8080/"
        }
      },
      "outputs": [
        {
          "output_type": "stream",
          "name": "stdout",
          "text": [
            "10\n"
          ]
        }
      ],
      "source": [
        "from functools import reduce\n",
        "nums = [1, 2, 3, 4]\n",
        "result = reduce(lambda x, y: x + y, nums)\n",
        "print(result)"
      ]
    },
    {
      "cell_type": "markdown",
      "id": "3355813c",
      "metadata": {
        "id": "3355813c"
      },
      "source": [
        "Que 11. Using pen & Paper write the internal mechanism for sum operation using  reduce function on this given\n",
        "list:[47,11,42,13];"
      ]
    },
    {
      "cell_type": "markdown",
      "id": "410709d9",
      "metadata": {
        "id": "410709d9"
      },
      "source": [
        "Iterations:\n",
        "\n",
        "First iteration:\n",
        "\n",
        "a = 47, b = 11\n",
        "a + b = 58\n",
        "Intermediate result: 58\n",
        "\n",
        "Second iteration:\n",
        "\n",
        "a = 58 (result from previous step), b = 42\n",
        "a + b = 100\n",
        "Intermediate result: 100\n",
        "\n",
        "Third iteration:\n",
        "\n",
        "a = 100 (result from previous step), b = 13\n",
        "a + b = 113\n",
        "Final result: 113\n",
        "\n",
        "reduce() applies the lambda function cumulatively to the items in the list, so each step combines the previous result with the next item, resulting in the sum of all elements."
      ]
    },
    {
      "cell_type": "code",
      "execution_count": 20,
      "id": "b423fa88",
      "metadata": {
        "id": "b423fa88",
        "outputId": "b2af3ca0-a0af-4154-c9c0-689714bd247e",
        "colab": {
          "base_uri": "https://localhost:8080/"
        }
      },
      "outputs": [
        {
          "output_type": "stream",
          "name": "stdout",
          "text": [
            "113\n"
          ]
        }
      ],
      "source": [
        "from functools import reduce\n",
        "nums = [47, 11, 42, 13]\n",
        "result = reduce(lambda a, b: a + b, nums)\n",
        "print(result)\n"
      ]
    },
    {
      "cell_type": "markdown",
      "id": "3c273bb7",
      "metadata": {
        "id": "3c273bb7"
      },
      "source": [
        "**Practical Questions:**"
      ]
    },
    {
      "cell_type": "markdown",
      "id": "87b9fcac",
      "metadata": {
        "id": "87b9fcac"
      },
      "source": [
        "1. Write a Python function that takes a list of numbers as input and returns the sum of all even numbers in\n",
        "the list."
      ]
    },
    {
      "cell_type": "code",
      "execution_count": 21,
      "id": "c3dbfbea",
      "metadata": {
        "id": "c3dbfbea",
        "outputId": "1ffb26a6-88e1-4b1c-bf14-eded9c56ca98",
        "colab": {
          "base_uri": "https://localhost:8080/"
        }
      },
      "outputs": [
        {
          "output_type": "stream",
          "name": "stdout",
          "text": [
            "Even numbers: [2, 4, 6, 8, 10, 12]\n",
            "Sum of even numbers: 42\n"
          ]
        }
      ],
      "source": [
        "numbers = [1, 2, 3, 4, 5, 6, 7, 8, 9, 10, 11, 12]\n",
        "def sum_of_even(numbers):\n",
        "    even_numbers = list(i for i in numbers if i % 2 == 0)\n",
        "    print(\"Even numbers:\", even_numbers)\n",
        "    return sum(even_numbers)\n",
        "print(\"Sum of even numbers:\", sum_of_even(numbers))"
      ]
    },
    {
      "cell_type": "markdown",
      "id": "fc198cea",
      "metadata": {
        "id": "fc198cea"
      },
      "source": [
        "2. Create a Python function that accepts a string and returns the reverse of that string."
      ]
    },
    {
      "cell_type": "code",
      "execution_count": 22,
      "id": "ab60709d",
      "metadata": {
        "id": "ab60709d",
        "outputId": "62aea66e-72e5-4e39-b288-e8600bc16f90",
        "colab": {
          "base_uri": "https://localhost:8080/"
        }
      },
      "outputs": [
        {
          "output_type": "stream",
          "name": "stdout",
          "text": [
            "ardnerihD\n"
          ]
        }
      ],
      "source": [
        "s = \"Dhirendra\"\n",
        "def reverse_str(s):\n",
        "    return s[::-1]\n",
        "print(reverse_str(s))"
      ]
    },
    {
      "cell_type": "markdown",
      "id": "db3ea48e",
      "metadata": {
        "id": "db3ea48e"
      },
      "source": [
        "3. Implement a Python function that takes a list of integers and returns a new list containing the squares of\n",
        "each number."
      ]
    },
    {
      "cell_type": "code",
      "execution_count": 23,
      "id": "fe356f11",
      "metadata": {
        "id": "fe356f11",
        "outputId": "340b732f-0c6c-458a-86a1-f93d46734d14",
        "colab": {
          "base_uri": "https://localhost:8080/"
        }
      },
      "outputs": [
        {
          "output_type": "stream",
          "name": "stdout",
          "text": [
            "[1, 4, 9, 16, 25]\n"
          ]
        }
      ],
      "source": [
        "list1 = [1, 2, 3, 4, 5]\n",
        "def square_num():\n",
        "    sqr = []\n",
        "    for num in list1:\n",
        "        sqr.append(num ** 2)\n",
        "    return sqr\n",
        "print(square_num())"
      ]
    },
    {
      "cell_type": "markdown",
      "id": "1ebbc9b4",
      "metadata": {
        "id": "1ebbc9b4"
      },
      "source": [
        "4. Write a Python function that checks if a given number is prime or not from 1 to 200."
      ]
    },
    {
      "cell_type": "code",
      "execution_count": 24,
      "id": "b400d1f4",
      "metadata": {
        "id": "b400d1f4",
        "outputId": "58a1db4b-ffb4-4946-b3c0-1364d4d90d91",
        "colab": {
          "base_uri": "https://localhost:8080/"
        }
      },
      "outputs": [
        {
          "output_type": "stream",
          "name": "stdout",
          "text": [
            "2,3,5,7,11,13,17,19,23,29,31,37,41,43,47,53,59,61,67,71,73,79,83,89,97,101,103,107,109,113,127,131,137,139,149,151,157,163,167,173,179,181,191,193,197,199,"
          ]
        }
      ],
      "source": [
        "for i in range(2,201):\n",
        "    for j in range(2,201):\n",
        "        if i % j == 0:\n",
        "            break\n",
        "    if i == j:\n",
        "        print(i,end=\",\")"
      ]
    },
    {
      "cell_type": "markdown",
      "id": "4525d9cc",
      "metadata": {
        "id": "4525d9cc"
      },
      "source": [
        "5. Create an iterator class in Python that generates the Fibonacci sequence up to a specified number of\n",
        "terms."
      ]
    },
    {
      "cell_type": "code",
      "execution_count": 24,
      "id": "33c84112",
      "metadata": {
        "id": "33c84112"
      },
      "outputs": [],
      "source": []
    },
    {
      "cell_type": "markdown",
      "id": "ab2cd6f4",
      "metadata": {
        "id": "ab2cd6f4"
      },
      "source": [
        "6. Write a generator function in Python that yields the powers of 2 up to a given exponent."
      ]
    },
    {
      "cell_type": "code",
      "execution_count": 25,
      "id": "b25a0660",
      "metadata": {
        "id": "b25a0660",
        "outputId": "d51d2568-68ee-4dbd-daf4-c3c03224f9a5",
        "colab": {
          "base_uri": "https://localhost:8080/"
        }
      },
      "outputs": [
        {
          "output_type": "stream",
          "name": "stdout",
          "text": [
            "1\n",
            "2\n",
            "4\n",
            "8\n",
            "16\n"
          ]
        }
      ],
      "source": [
        "def powers_of_two(n):\n",
        "    for i in range(n):\n",
        "        yield 2 ** i\n",
        "\n",
        "for value in powers_of_two(5):\n",
        "    print(value)\n"
      ]
    },
    {
      "cell_type": "markdown",
      "id": "2c103f3d",
      "metadata": {
        "id": "2c103f3d"
      },
      "source": [
        "7. Implement a generator function that reads a file line by line and yields each line as a string."
      ]
    },
    {
      "cell_type": "code",
      "execution_count": 26,
      "id": "ca4c87c1",
      "metadata": {
        "id": "ca4c87c1"
      },
      "outputs": [],
      "source": [
        "def read_file_line(filepath):\n",
        "    with open(filepath, 'r') as file:\n",
        "        for line in file:\n",
        "            yield line.rstrip('\\n')"
      ]
    },
    {
      "cell_type": "markdown",
      "id": "291911f5",
      "metadata": {
        "id": "291911f5"
      },
      "source": [
        "8. Use a lambda function in Python to sort a list of tuples based on the second element of each tuple."
      ]
    },
    {
      "cell_type": "code",
      "execution_count": 27,
      "id": "d51cbaf0",
      "metadata": {
        "id": "d51cbaf0",
        "outputId": "3e42c0dd-79a8-40f6-b2cf-a025f7f8082e",
        "colab": {
          "base_uri": "https://localhost:8080/"
        }
      },
      "outputs": [
        {
          "output_type": "stream",
          "name": "stdout",
          "text": [
            "[(1, 2, 3), (9, 3, 4), (4, 5, 7), (6, 7, 2), (2, 9, 3)]\n"
          ]
        }
      ],
      "source": [
        "listtp = [(1,2,3),(4,5,7),(9,3,4),(2,9,3),(6,7,2)]\n",
        "# Sort by the second element of each tuple\n",
        "sorted_list = sorted(listtp, key=lambda i: i[1])\n",
        "print(sorted_list)"
      ]
    },
    {
      "cell_type": "markdown",
      "id": "90576e6d",
      "metadata": {
        "id": "90576e6d"
      },
      "source": [
        "9. Write a Python program that uses `map()` to convert a list of temperatures from Celsius to Fahrenheit."
      ]
    },
    {
      "cell_type": "code",
      "execution_count": 28,
      "id": "d72dd64e",
      "metadata": {
        "id": "d72dd64e",
        "outputId": "dc61dcf6-72d2-4dda-8432-9c3b518e4866",
        "colab": {
          "base_uri": "https://localhost:8080/"
        }
      },
      "outputs": [
        {
          "output_type": "stream",
          "name": "stdout",
          "text": [
            "[53.6, 80.6, 91.4, 102.2]\n"
          ]
        }
      ],
      "source": [
        "list_temp = [12, 27, 33, 39]\n",
        "cels_to_fahrenheit = list(map(lambda C: C * (9/5) + 32, list_temp))\n",
        "print(cels_to_fahrenheit)"
      ]
    },
    {
      "cell_type": "markdown",
      "id": "e59b960a",
      "metadata": {
        "id": "e59b960a"
      },
      "source": [
        "10. Create a Python program that uses `filter()` to remove all the vowels from a given string."
      ]
    },
    {
      "cell_type": "code",
      "execution_count": 29,
      "id": "6641ba6f",
      "metadata": {
        "id": "6641ba6f",
        "outputId": "26fa26c2-5fca-493a-d94b-bf33342860b3",
        "colab": {
          "base_uri": "https://localhost:8080/"
        }
      },
      "outputs": [
        {
          "output_type": "stream",
          "name": "stdout",
          "text": [
            "  B   C   D     F   G   H     J   K   L   M   N     P   Q   R   S   T     V   W   X   Y   Z\n"
          ]
        }
      ],
      "source": [
        "string = \"A B C D E F G H I J K L M N O P Q R S T U V W X Y Z\"\n",
        "\n",
        "def is_not_vowel(char):\n",
        "    return char not in \"AEIOU\"\n",
        "\n",
        "consonants = \" \".join(filter(is_not_vowel, string))\n",
        "print(consonants)\n"
      ]
    },
    {
      "cell_type": "raw",
      "id": "ee24370a",
      "metadata": {
        "id": "ee24370a"
      },
      "source": [
        "11) Imagine an accounting routine used in a book shop. It works on a list with sublists, which look like this:\n",
        "\n",
        "    Order Number        Book Title and Author                     Quantity                 Price per Item\n",
        "    34587               Learning Python, Mark Lutz                   4                         40.95\n",
        "    98762               Proggraming Python, mark Lutz                5                         56.80\n",
        "    77226               Head First Python, Paul Barry                3                         32.95\n",
        "    88112               Einfuhrung in python3, Bernd Klein           3                         24.99\n",
        "\n",
        "Write a Python program, which returns a list with 2-tuples. Each tuple consists of the order number and the\n",
        "product of the price per item and the quantity. The product should be increased by 10,- € if the value of the\n",
        "order is smaller than 100,00 €.\n",
        "\n",
        "Write a Python program using lambda and map."
      ]
    },
    {
      "cell_type": "code",
      "execution_count": 30,
      "id": "e674cbf5",
      "metadata": {
        "id": "e674cbf5",
        "outputId": "485f2b71-bf16-4cb7-b0a8-5d331dd5a4c5",
        "colab": {
          "base_uri": "https://localhost:8080/"
        }
      },
      "outputs": [
        {
          "output_type": "stream",
          "name": "stdout",
          "text": [
            "[(34587, 163.8), (98762, 284.0), (77226, 108.85), (88112, 84.97)]\n"
          ]
        }
      ],
      "source": [
        "orders = [\n",
        "    [34587, \"Learning Python, Mark Lutz\", 4, 40.95],\n",
        "    [98762, \"Proggraming Python, mark Lutz\", 5, 56.80],\n",
        "    [77226, \"Head First Python, Paul Barry\", 3, 32.95],\n",
        "    [88112, \"Einfuhrung in python3, Bernd Klein\", 3, 24.99]\n",
        "]\n",
        "\n",
        "order_totals = list(map(\n",
        "    lambda order: (\n",
        "        order[0],\n",
        "        round(order[2] * order[3] + (10 if order[2] * order[3] < 100 else 0), 2)\n",
        "    ),\n",
        "    orders\n",
        "))\n",
        "\n",
        "print(order_totals)"
      ]
    },
    {
      "cell_type": "code",
      "execution_count": 30,
      "id": "3b8b0695",
      "metadata": {
        "id": "3b8b0695"
      },
      "outputs": [],
      "source": []
    }
  ],
  "metadata": {
    "kernelspec": {
      "display_name": "Python 3",
      "language": "python",
      "name": "python3"
    },
    "language_info": {
      "codemirror_mode": {
        "name": "ipython",
        "version": 3
      },
      "file_extension": ".py",
      "mimetype": "text/x-python",
      "name": "python",
      "nbconvert_exporter": "python",
      "pygments_lexer": "ipython3",
      "version": "3.13.3"
    },
    "colab": {
      "provenance": []
    }
  },
  "nbformat": 4,
  "nbformat_minor": 5
}